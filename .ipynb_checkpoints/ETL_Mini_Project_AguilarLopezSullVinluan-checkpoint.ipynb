{
 "cells": [
  {
   "cell_type": "code",
   "execution_count": 2,
   "id": "092dbc99-84f7-4c4c-8705-67a03ce297b7",
   "metadata": {},
   "outputs": [],
   "source": [
    "# Dependencies and Imports \n",
    "from pymongo import MongoClient"
   ]
  },
  {
   "cell_type": "code",
   "execution_count": null,
   "id": "58f66e76-4924-4bf3-a8b4-37922f62ba24",
   "metadata": {},
   "outputs": [],
   "source": [
    "# Read CSV"
   ]
  },
  {
   "cell_type": "code",
   "execution_count": null,
   "id": "f550cf02-ab7d-414c-b5c8-99205b0b48b0",
   "metadata": {},
   "outputs": [],
   "source": [
    "# Confirm datatypes"
   ]
  },
  {
   "cell_type": "code",
   "execution_count": null,
   "id": "7c58aa4c-3e1d-47af-8819-6c7fd9dcbf35",
   "metadata": {},
   "outputs": [],
   "source": [
    "# Extract and Clean Data"
   ]
  },
  {
   "cell_type": "code",
   "execution_count": 3,
   "id": "6d4cb5c8-2fc8-4d60-8a1d-c03f7bbb2f01",
   "metadata": {},
   "outputs": [],
   "source": [
    "# MongoClient connection\n",
    "mongo = MongoClient(port=27017)\n",
    "\n",
    "db = mongo.meteoriteLandings\n",
    "\n",
    "landings = db.landings\n",
    "locations = db.locations"
   ]
  },
  {
   "cell_type": "code",
   "execution_count": 4,
   "id": "51b6e6f9-3473-495a-b7fa-200f176ada85",
   "metadata": {},
   "outputs": [
    {
     "data": {
      "text/plain": [
       "{'_id': ObjectId('6577a0ee524d8a0ae58cf641'),\n",
       " 'name': 'Aachen',\n",
       " 'id': 1,\n",
       " 'nametype': 'Valid',\n",
       " 'recclass': 'L5',\n",
       " 'mass': 21,\n",
       " 'fall': 'Fell',\n",
       " 'year': 1880,\n",
       " 'reclat': 50.775,\n",
       " 'reclong': 6.08333,\n",
       " 'GeoLocation': '(50.775000, 6.083330)'}"
      ]
     },
     "execution_count": 4,
     "metadata": {},
     "output_type": "execute_result"
    }
   ],
   "source": [
    "landings.find_one()"
   ]
  },
  {
   "cell_type": "code",
   "execution_count": 5,
   "id": "3850f242-b9b4-42c8-b6f8-5ff6a912ac9b",
   "metadata": {},
   "outputs": [
    {
     "data": {
      "text/plain": [
       "{'_id': ObjectId('6577a0f7524d8a0ae58da8d6'),\n",
       " 'city': 'Tokyo',\n",
       " 'city_ascii': 'Tokyo',\n",
       " 'lat': 35.6897,\n",
       " 'lon': 139.6922,\n",
       " 'country': 'Japan',\n",
       " 'iso2': 'JP',\n",
       " 'iso3': 'JPN',\n",
       " 'admin_name': 'Tōkyō',\n",
       " 'capital': 'primary',\n",
       " 'population': 37977000,\n",
       " 'id': 1392685764}"
      ]
     },
     "execution_count": 5,
     "metadata": {},
     "output_type": "execute_result"
    }
   ],
   "source": [
    "locations.find_one()"
   ]
  },
  {
   "cell_type": "code",
   "execution_count": null,
   "id": "95d0be49-3c86-4b34-906b-568751ad2f23",
   "metadata": {},
   "outputs": [],
   "source": []
  }
 ],
 "metadata": {
  "kernelspec": {
   "display_name": "Python 3 (ipykernel)",
   "language": "python",
   "name": "python3"
  },
  "language_info": {
   "codemirror_mode": {
    "name": "ipython",
    "version": 3
   },
   "file_extension": ".py",
   "mimetype": "text/x-python",
   "name": "python",
   "nbconvert_exporter": "python",
   "pygments_lexer": "ipython3",
   "version": "3.11.5"
  }
 },
 "nbformat": 4,
 "nbformat_minor": 5
}
