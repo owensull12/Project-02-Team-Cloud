{
 "cells": [
  {
   "cell_type": "code",
   "execution_count": null,
   "id": "092dbc99-84f7-4c4c-8705-67a03ce297b7",
   "metadata": {},
   "outputs": [],
   "source": [
    "# Dependencies and Imports "
   ]
  },
  {
   "cell_type": "code",
   "execution_count": null,
   "id": "58f66e76-4924-4bf3-a8b4-37922f62ba24",
   "metadata": {},
   "outputs": [],
   "source": [
    "# Read CSV"
   ]
  },
  {
   "cell_type": "code",
   "execution_count": null,
   "id": "f550cf02-ab7d-414c-b5c8-99205b0b48b0",
   "metadata": {},
   "outputs": [],
   "source": [
    "# Confirm datatypes"
   ]
  },
  {
   "cell_type": "code",
   "execution_count": null,
   "id": "7c58aa4c-3e1d-47af-8819-6c7fd9dcbf35",
   "metadata": {},
   "outputs": [],
   "source": [
    "# Extract and Clean Data"
   ]
  },
  {
   "cell_type": "code",
   "execution_count": null,
   "id": "6d4cb5c8-2fc8-4d60-8a1d-c03f7bbb2f01",
   "metadata": {},
   "outputs": [],
   "source": [
    "# MongoClient connection"
   ]
  }
 ],
 "metadata": {
  "kernelspec": {
   "display_name": "Python 3 (ipykernel)",
   "language": "python",
   "name": "python3"
  },
  "language_info": {
   "codemirror_mode": {
    "name": "ipython",
    "version": 3
   },
   "file_extension": ".py",
   "mimetype": "text/x-python",
   "name": "python",
   "nbconvert_exporter": "python",
   "pygments_lexer": "ipython3",
   "version": "3.11.5"
  }
 },
 "nbformat": 4,
 "nbformat_minor": 5
}
